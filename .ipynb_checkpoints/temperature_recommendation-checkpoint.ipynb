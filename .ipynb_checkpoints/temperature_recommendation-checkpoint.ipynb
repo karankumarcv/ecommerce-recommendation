{
 "cells": [
  {
   "cell_type": "code",
   "execution_count": null,
   "id": "44c18cd0-276f-4bd8-b2da-1f7d70d6946d",
   "metadata": {},
   "outputs": [],
   "source": [
    "#import the necessary python libraries\n",
    "import pandas as pd\n",
    "import numpy as np\n",
    "from apyori import apriori\n",
    "import random"
   ]
  },
  {
   "cell_type": "code",
   "execution_count": null,
   "id": "2589141a-55d9-4876-8887-b84760c5ce50",
   "metadata": {},
   "outputs": [],
   "source": [
    "\n",
    "#importing the dataset, consider the header as it contains products\n",
    "dataset = pd.read_csv('Market_Basket_Optimisation.csv', header = None)\n",
    "dataset = dataset.fillna(0) #Fill 0 in place of nan values\n"
   ]
  },
  {
   "cell_type": "code",
   "execution_count": null,
   "id": "63372074-b40d-4454-9382-fccb1c54a89b",
   "metadata": {
    "scrolled": true
   },
   "outputs": [],
   "source": [
    "temperature_list = []\n",
    "for i in range(0,7501):\n",
    "    temperature = random.randint(0,50)\n",
    "    formatted_temp = str(temperature).zfill(2)\n",
    "    temperature_list.append(formatted_temp)\n",
    "# dataset['temp'] = temperature_list\n",
    "dataset.insert(dataset.shape[1],'temp',temperature_list)\n",
    "print(dataset)"
   ]
  },
  {
   "cell_type": "code",
   "execution_count": null,
   "id": "e99e75da-b483-43b9-bb29-0e04fd692154",
   "metadata": {},
   "outputs": [],
   "source": [
    "\n",
    "#creating a list of transactions\n",
    "transactions = []\n",
    "for i in range(0, 7501):\n",
    "    transactions.append([dataset.values[i,j] for j in range(0, 21) if str(dataset.values[i,j])!='0'])\n",
    "\n",
    "print(transactions)"
   ]
  },
  {
   "cell_type": "code",
   "execution_count": null,
   "id": "2280ef0e-c30a-406a-8e41-ede56895a44c",
   "metadata": {},
   "outputs": [],
   "source": [
    "\n",
    "#create an object of apriori function and set the threshold values for metrics\n",
    "rules = apriori(transactions, min_support=0.003, min_confidence=0.2, min_lift=3, min_length=2)\n",
    "rules_list = list(rules)\n",
    "\n",
    "#converting the list to a dataframe\n",
    "result = pd.DataFrame(rules_list)\n",
    "\n",
    "#save support to a separate column\n",
    "support = result.support\n",
    "\n",
    "#all four empty lists will contain the items, confidence and lift respectively.\n",
    "item1 = []\n",
    "item2 = []\n",
    "confidence = []\n",
    "lift = []\n",
    "\n",
    "#first and second item are frozensets and it has to be converted to a list\n",
    "for i in range(result.shape[0]):\n",
    "    list1 = result['ordered_statistics'][i][0]\n",
    "    item1.append(list(list1[0]))\n",
    "    item2.append(list(list1[1]))\n",
    "    confidence.append(list1[2])\n",
    "    lift.append(list1[3])\n",
    "\n",
    "#convert the lists to dataframe\n",
    "item_1 = pd.DataFrame(item1)\n",
    "item_2 = pd.DataFrame(item2)\n",
    "conf =pd.DataFrame(confidence,columns=['Confidence'])\n",
    "lift_m = pd.DataFrame(lift,columns=['Lift'])\n",
    "\n",
    "#concatenate the individual dataframes to a single dataframe\n",
    "final_result = pd.concat([item_1,item_2,support,conf,lift_m], axis=1)\n",
    "\n",
    "#fill the missing values\n",
    "final_result = final_result.fillna(value=' ')\n",
    "\n",
    "#rename the columns\n",
    "final_result.columns = ['Item1','Item2','Item3','Item4','Item5','Support','Confidence','Lift']\n",
    "final_result.head()\n"
   ]
  },
  {
   "cell_type": "code",
   "execution_count": null,
   "id": "5ddb0a9f-534d-49d0-831e-a2c8a18d176b",
   "metadata": {},
   "outputs": [],
   "source": []
  }
 ],
 "metadata": {
  "kernelspec": {
   "display_name": "Python 3 (ipykernel)",
   "language": "python",
   "name": "python3"
  },
  "language_info": {
   "codemirror_mode": {
    "name": "ipython",
    "version": 3
   },
   "file_extension": ".py",
   "mimetype": "text/x-python",
   "name": "python",
   "nbconvert_exporter": "python",
   "pygments_lexer": "ipython3",
   "version": "3.12.0"
  }
 },
 "nbformat": 4,
 "nbformat_minor": 5
}
